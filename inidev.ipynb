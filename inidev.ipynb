{
 "cells": [
  {
   "cell_type": "markdown",
   "metadata": {},
   "source": [
    "# Automatizando inicialização de ambiente dev"
   ]
  },
  {
   "cell_type": "markdown",
   "metadata": {},
   "source": [
    "1. automatizando o Xampp (Apache, Mysql)\n",
    "\n",
    "pesquisar por beautsoup automação web"
   ]
  },
  {
   "cell_type": "code",
   "execution_count": 15,
   "metadata": {},
   "outputs": [],
   "source": [
    "import pyautogui\n",
    "import time\n",
    "\n",
    "# automatizando o Xampp\n",
    "\n",
    "# 0. alertar inicio da execução\n",
    "#pyautogui.alert('Iniciando o código.')\n",
    "\n",
    "# 0. configurando tempo de espera de execução pra cada linha\n",
    "pyautogui.PAUSE = 1\n",
    "\n",
    "# 1. abrir o inicializar\n",
    "pyautogui.press('winleft')\n",
    "\n",
    "# 2. digitar xampp-control\n",
    "pyautogui.write('xampp-control')\n",
    "\n",
    "time.sleep(1)\n",
    "# 3. clicar em enter\n",
    "pyautogui.press('enter')\n",
    "\n",
    "# 4. navegar nos botões do xampp\n",
    "pyautogui.press('tab')\n",
    "# 5. navegar nos botões do xampp para o Start do Apache\n",
    "pyautogui.press('tab')\n",
    "# 6. clicar para iniciar o Apache\n",
    "pyautogui.press('space')\n",
    "\n",
    "# 7. navegar para o botão Admin do Apache\n",
    "pyautogui.press('tab')\n",
    "# 8. navegar para o botão Start do Mysql\n",
    "pyautogui.press('tab')\n",
    "# 9. clicar para iniciar o Mysql\n",
    "pyautogui.press('space')\n",
    "# 10. apertar alt + F4 para fechar a janela do xampp\n",
    "pyautogui.hotkey('altleft', 'f4')"
   ]
  },
  {
   "cell_type": "markdown",
   "metadata": {},
   "source": [
    "2. Automatizando inicialização do VSCODE"
   ]
  },
  {
   "cell_type": "code",
   "execution_count": 16,
   "metadata": {},
   "outputs": [],
   "source": [
    "# 1. abrir o inicializar\n",
    "pyautogui.press('winleft')\n",
    "\n",
    "# 2. digitar visual studio code\n",
    "pyautogui.write('visual studio code')\n",
    "\n",
    "time.sleep(1)\n",
    "# 3. clicar em enter\n",
    "pyautogui.press('enter')"
   ]
  },
  {
   "cell_type": "markdown",
   "metadata": {},
   "source": [
    "3.  Automatizando inicialização do HeidSQL"
   ]
  },
  {
   "cell_type": "code",
   "execution_count": 17,
   "metadata": {},
   "outputs": [],
   "source": [
    "# 1. abrir o inicializar\n",
    "pyautogui.press('winleft')\n",
    "\n",
    "# 2. digitar heidsql\n",
    "pyautogui.write('heidsql')\n",
    "\n",
    "time.sleep(1)\n",
    "# 3. clicar em enter\n",
    "pyautogui.press('enter')"
   ]
  },
  {
   "cell_type": "markdown",
   "metadata": {},
   "source": [
    "4. Automatizando incialização do Navegador"
   ]
  },
  {
   "cell_type": "code",
   "execution_count": 18,
   "metadata": {},
   "outputs": [],
   "source": [
    "# 1. abrir o inicializar\n",
    "pyautogui.press('winleft')\n",
    "\n",
    "# 2. digitar heidsql\n",
    "pyautogui.write('chrome')\n",
    "\n",
    "time.sleep(1)\n",
    "# 3. clicar em enter\n",
    "pyautogui.press('enter')"
   ]
  },
  {
   "source": [
    "## 5. Abrindo o Brave"
   ],
   "cell_type": "markdown",
   "metadata": {}
  },
  {
   "cell_type": "code",
   "execution_count": 19,
   "metadata": {},
   "outputs": [],
   "source": [
    "pyautogui.press('winleft')\n",
    "pyautogui.write('brave')\n",
    "\n",
    "time.sleep(1)\n",
    "\n",
    "pyautogui.press('enter')"
   ]
  }
 ],
 "metadata": {
  "kernelspec": {
   "name": "python395jvsc74a57bd0ce1e901da04acbe50dd99cd0d91cb411cb2166c3507dec81ce620981a8df4741",
   "display_name": "Python 3.9.5 64-bit"
  },
  "language_info": {
   "codemirror_mode": {
    "name": "ipython",
    "version": 3
   },
   "file_extension": ".py",
   "mimetype": "text/x-python",
   "name": "python",
   "nbconvert_exporter": "python",
   "pygments_lexer": "ipython3",
   "version": "3.9.5"
  },
  "metadata": {
   "interpreter": {
    "hash": "ce1e901da04acbe50dd99cd0d91cb411cb2166c3507dec81ce620981a8df4741"
   }
  }
 },
 "nbformat": 4,
 "nbformat_minor": 4
}