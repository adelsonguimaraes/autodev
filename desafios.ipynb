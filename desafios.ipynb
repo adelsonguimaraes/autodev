{
 "metadata": {
  "language_info": {
   "codemirror_mode": {
    "name": "ipython",
    "version": 3
   },
   "file_extension": ".py",
   "mimetype": "text/x-python",
   "name": "python",
   "nbconvert_exporter": "python",
   "pygments_lexer": "ipython3",
   "version": "3.9.5"
  },
  "orig_nbformat": 2,
  "kernelspec": {
   "name": "python395jvsc74a57bd0f0c0f2287e2bc1235751a95fa72916983336a544439ac6d413f9cfd3b9709350",
   "display_name": "Python 3.9.5 64-bit (windows store)"
  },
  "metadata": {
   "interpreter": {
    "hash": "f0c0f2287e2bc1235751a95fa72916983336a544439ac6d413f9cfd3b9709350"
   }
  }
 },
 "nbformat": 4,
 "nbformat_minor": 2,
 "cells": [
  {
   "source": [
    "# Desafios\n",
    "\n",
    "## Desvios Condicionais"
   ],
   "cell_type": "markdown",
   "metadata": {}
  },
  {
   "source": [
    "## Exercício 01\n",
    "\n",
    "O time de contas a receber solicitou do time de manipulação de dados que fizesse\n",
    "um código onde reproduzisse a fórmula do cálculo de juros e multa aplicados aos\n",
    "contratos que o sistema realiza para facilitar a aplicação e cálculo quando algum\n",
    "cliente desejar tirar dúvidas sobre pagamentos. Faça um programa que peça o valor\n",
    "do contrato e a quantidade de dias de atraso e imprima na tela o valor total da\n",
    "parcela, onde:\n",
    "\n",
    "### para 1 dia de atraso:\n",
    "* juros = valor do contrato * 0.00397\n",
    "* multa = 0\n",
    "\n",
    "### para mais de um dia de atraso:\n",
    "* juros = valor do contrato * 0.00397 * dias de atraso\n",
    "* multa = valor do contrato * 0.02\n"
   ],
   "cell_type": "markdown",
   "metadata": {}
  },
  {
   "cell_type": "code",
   "execution_count": 10,
   "metadata": {},
   "outputs": [
    {
     "output_type": "stream",
     "name": "stdout",
     "text": [
      "juros: 19.85 - multa: 100.0\n"
     ]
    }
   ],
   "source": [
    "# 1. solicitar inserir o valor do contrato\n",
    "valor_contrato = float(input())\n",
    "# 2. solicitar a quantidade de dias de atraso\n",
    "quantidade_atraso = int(input())\n",
    "# 3. calcular o valor total da parcela considereando:\n",
    "\n",
    "#  1 dia (juros = valor_contrato * 0.00397) e (multa = valor_contrato * 0)\n",
    "if (quantidade_atraso==1):\n",
    "    juros = valor_contrato * 0.00397\n",
    "    multa = valor_contrato * 0\n",
    "#  2+ dias (juros = valor_contrato * 0.00397) e (nulta = valor_contrato * 0.02)\n",
    "if (quantidade_atraso>1):\n",
    "    juros = valor_contrato * 0.00397\n",
    "    multa = valor_contrato * 0.02\n",
    "\n",
    "print('juros:', round(juros, 2), '- multa:', round(multa, 2))\n"
   ]
  },
  {
   "source": [
    "## Exercício 02\n",
    "O time de compras da bemol solicitou um código que, a partir do número do\n",
    "produto, identifique se aquele item é um item do mercado bemol, bemol farma ou\n",
    "bemol varejo. Faça um programa que peça um código de produto e imprima na tela\n",
    "qual ramo ele pertence visto que: códigos que começam com 133 e 134 são itens de\n",
    "mercado; 130 e 132 são itens farma; 100 a 129 são itens varejo. Qualquer código que\n",
    "não comece com esses valores são itens não cadastrados.\n"
   ],
   "cell_type": "markdown",
   "metadata": {}
  },
  {
   "cell_type": "code",
   "execution_count": 23,
   "metadata": {},
   "outputs": [
    {
     "output_type": "stream",
     "name": "stdout",
     "text": [
      "este produto não pertence a Bemol.\n"
     ]
    }
   ],
   "source": [
    "# 1. solicitar a inserção de um código de produto\n",
    "codigo = str(input())\n",
    "# 2. verificar a origem do produto, considerando:\n",
    "\n",
    "# códigos iniciados com 133 e 134 = mercado\n",
    "if (int(codigo[0:3])==133 or int(codigo[0:3])==134):\n",
    "    print('este produto é do Mercado Bemol')\n",
    "# códigos iniciados com 130 e 132 = farma\n",
    "elif (int(codigo[0:3])==130 or int(codigo[0:3])==132):\n",
    "    print('este produto é da Bemol Farma')\n",
    "# códigos iniciados com 100 a 129 = varejo\n",
    "elif (int(codigo[0:3])>=100 and int(codigo[0:3])<=129):\n",
    "    print('este produto é do Bemol Varejo')\n",
    "# caso o código não atenda aos requisitos\n",
    "else:\n",
    "    print('este produto não pertence a Bemol.')"
   ]
  },
  {
   "source": [
    "## Exercício 03\n",
    "\n",
    "A Bemol Varejo sempre está fornecendo pontos de bônus para seus clientes\n",
    "(compras, pagamentos de parcelas, adiantamentos, datas comemorativas, etc). Esses\n",
    "pontos de bônus podem ser usados para descontos em outras compras ou\n",
    "pagamentos e o valor deles depende do nível do cliente que pode ser: AZUL, PRATA,\n",
    "OURO, DIAMANTE E DIAMANTE+. Faça um programa que peça o número de pontos\n",
    "total que um cliente tenha acumulado e calcule o valor que ele pode ter de retorno de\n",
    "acordo com a sua pedra, onde a cada 1500 pontos:\n",
    "\n",
    "* Cliente Azul tem 10 reais de retorno;\n",
    "* Cliente Prata tem 12.5 reais de retorno;\n",
    "* Cliente Ouro tem 15 reais de retorno;\n",
    "* Cliente Diamante tem 17.5 reais de retorno;\n",
    "* Cliente Diamante+ tem 20 reais de retorno;"
   ],
   "cell_type": "markdown",
   "metadata": {}
  },
  {
   "cell_type": "code",
   "execution_count": 37,
   "metadata": {},
   "outputs": [
    {
     "output_type": "stream",
     "name": "stdout",
     "text": [
      "R$ 52.5\n"
     ]
    }
   ],
   "source": [
    "# 1. solicita o total de pontos do cliente\n",
    "pontos = int(input())\n",
    "pedra = str(input())\n",
    "# 2. calcular o valor de retorno de acordo com a pedra onde a cada 1500 pontos:\n",
    "\n",
    "# Azul = 10\n",
    "if (pedra == 'azul'):\n",
    "    print('R$', round((int(pontos/1500) * 10), 2))\n",
    "# Prata = 12.5\n",
    "elif (pedra == 'prata'):\n",
    "    print('R$', round((int(pontos/1500) * 12.5), 2))\n",
    "# Ouro = 15\n",
    "elif (pedra == 'ouro'):\n",
    "    print('R$', round((int(pontos/1500) * 15), 2))\n",
    "# Diamente = 17.5\n",
    "elif (pedra == 'diamante'):\n",
    "    print('R$', round((int(pontos/1500) * 17.5), 2))\n",
    "# Diamante+ = 20\n",
    "elif (pedra == 'diamante+'):\n",
    "    print('R$', round((int(pontos/1500) * 20), 2))\n",
    "# caso a pedra não seja reconhecida\n",
    "else:\n",
    "    print('Essa pedra não foi reconhecida')"
   ]
  },
  {
   "cell_type": "code",
   "execution_count": null,
   "metadata": {},
   "outputs": [],
   "source": []
  }
 ]
}